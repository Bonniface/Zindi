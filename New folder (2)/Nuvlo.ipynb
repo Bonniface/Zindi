#!/usr/bin/env python
# coding: utf-8

# In[1]:


import pandas as pd


# In[10]:


Nuvlo = pd.read_csv('/Users/Keturah/Desktop/SOP/Nuvlo/Data for GLMM.csv')


# In[11]:


len(Nuvlo)


# In[12]:


Nuvlo.info()


# In[14]:


Nuvlo.head(10)


# In[16]:


Nuvlo.describe(include='all')


# In[17]:


import numpy as np
from sklearn.preprocessing import LabelEncoder


# In[18]:


Nuvlo['CB']=Nuvlo['CB'].astype(str)


# In[19]:


encoder_CB=LabelEncoder()
encoder_CB.fit(Nuvlo['CB'].values)


# In[20]:


CB_numeric=encoder_CB.transform(Nuvlo['CB'].values)


# In[21]:


Nuvlo['CB_conversion']=encoder_CB.transform(Nuvlo['CB'].values)


# In[24]:


Nuvlo.head(30)


# In[26]:


Numeric_Features=Nuvlo.select_dtypes(include=[np.number])
Numeric_Features.columns


# In[33]:


Numeric_Features.head(10)


# In[27]:


Correlation = Numeric_Features.corr()
print(Correlation['CAP'].sort_values(ascending=False),'\n')


# In[28]:


from statsmodels.stats.outliers_influence import variance_inflation_factor


# In[34]:


def calc_VIF(x):
    vif=pd.DataFrame()
    vif['variables']=x.columns
    vif["VIF"]=[variance_inflation_factor(x.values,i) for i in range(x.shape[1])]
    
    return(vif)


# In[35]:


Ind_Features=['PN', 'G', 'YOD', 'AOD', 'EL', 'MY', 'DUC', 'F', 'NC','CB_conversion']


# In[36]:


x=Numeric_Features[Ind_Features]
calc_VIF(x)


# In[39]:


Ind_Features_1=['PN', 'G', 'YOD', 'AOD', 'EL', 'DUC', 'F', 'NC','CB_conversion']


# In[40]:


x_1=Numeric_Features[Ind_Features_1]
calc_VIF(x_1)


# In[42]:


Ind_Features_2=['PN', 'G', 'YOD', 'EL', 'DUC', 'F', 'NC','CB_conversion']


# In[43]:


x_2=Numeric_Features[Ind_Features_2]
calc_VIF(x_2)


# In[44]:


Ind_Features_3=['PN', 'G', 'YOD', 'EL', 'DUC', 'NC','CB_conversion']


# In[45]:


x_3=Numeric_Features[Ind_Features_3]
calc_VIF(x_3)


# In[46]:


Ind_Features_4=['PN','YOD', 'EL', 'DUC', 'NC','CB_conversion']


# In[47]:


x_4=Numeric_Features[Ind_Features_4]
calc_VIF(x_4)


# In[49]:


Ind_Features_5=['YOD', 'DUC', 'NC','CB_conversion']


# In[50]:


x_5=Numeric_Features[Ind_Features_5]
calc_VIF(x_5)


# In[52]:


Selected_Features_4_GLM = ['YOD', 'DUC', 'NC','CB_conversion','CAP']


# In[54]:


Papa_Benji = Nuvlo[Selected_Features_4_GLM]


# In[55]:


Papa_Benji.head(10)


# In[60]:


Independent_V = ['YOD', 'DUC', 'NC','CB_conversion']
X = Papa_Benji[Independent_V]

Dependent_V = ['CAP']
Y = Papa_Benji[Dependent_V]


# In[61]:


X


# In[62]:


Y


# In[65]:


#fitting linear regressionn model

from sklearn.linear_model import LinearRegression

m = LinearRegression()
m.fit(X,Y)


# In[67]:


Papa_Benji.to_csv('/Users/Keturah/Desktop/SOP/Nuvlo/Cleaned_Data.csv',index=False)


# In[ ]:




