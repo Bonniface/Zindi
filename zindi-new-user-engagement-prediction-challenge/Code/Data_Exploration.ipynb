{
 "cells": [
  {
   "cell_type": "code",
   "execution_count": null,
   "metadata": {},
   "outputs": [],
   "source": [
    "import pandas as pd\n"
   ]
  }
 ],
 "metadata": {
  "kernelspec": {
   "display_name": "Python 3.9.13 ('base')",
   "language": "python",
   "name": "python3"
  },
  "language_info": {
   "name": "python",
   "version": "3.9.13"
  },
  "orig_nbformat": 4,
  "vscode": {
   "interpreter": {
    "hash": "d025a9ddeab932afeffa78e9efd9a5cf9b08f81f883542c5638e0b7a85f5538d"
   }
  }
 },
 "nbformat": 4,
 "nbformat_minor": 2
}
