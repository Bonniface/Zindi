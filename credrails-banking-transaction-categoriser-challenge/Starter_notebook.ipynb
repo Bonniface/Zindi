{
 "cells": [
  {
   "cell_type": "markdown",
   "metadata": {
    "id": "PvKRBlqreh9N"
   },
   "source": [
    "# Credrails Competition"
   ]
  },
  {
   "cell_type": "markdown",
   "metadata": {
    "id": "jNl4Kvk3d_s3"
   },
   "source": [
    "This is a simple starter notebook to get started with the Credrails Competition on Zindi.\n",
    "\n",
    "This notebook covers:\n",
    "\n",
    "*   Loading the data\n",
    "*   Simple Exploratory Data Analysis and an example of feature engineering\n",
    "*   Data preprocessing and data wrangling\n",
    "*   Creating a simple model\n",
    "*   Making a submission\n",
    "*   Some tips for improving your score"
   ]
  },
  {
   "cell_type": "markdown",
   "metadata": {
    "id": "iYdpBYYceneg"
   },
   "source": [
    "## Importing libraries"
   ]
  },
  {
   "cell_type": "code",
   "execution_count": 1,
   "metadata": {
    "id": "06kkNxjIdgSW"
   },
   "outputs": [],
   "source": [
    "# Dataframe and Plotting libraries\n",
    "import pandas as pd\n",
    "import numpy as np\n",
    "import seaborn as sns\n",
    "import matplotlib.pylab as plt\n",
    "\n",
    "# Machine Learning libraries\n",
    "from sklearn.preprocessing import StandardScaler\n",
    "from sklearn.tree import DecisionTreeClassifier\n",
    "from sklearn.metrics import accuracy_score, classification_report\n",
    "from sklearn.model_selection import train_test_split\n",
    "from sklearn.metrics import log_loss\n",
    "from sklearn.pipeline import Pipeline,FeatureUnion\n",
    "from sklearn.compose import ColumnTransformer\n",
    "from sklearn.feature_extraction.text import CountVectorizer\n",
    "from sklearn.feature_extraction import FeatureHasher\n",
    "from sklearn.feature_extraction.text import HashingVectorizer,TfidfVectorizer\n",
    "from sklearn.decomposition import TruncatedSVD\n",
    "\n",
    "pd.set_option('display.max_columns', None)\n",
    "# from google.colab import files\n",
    "import warnings\n",
    "warnings.filterwarnings('ignore')"
   ]
  },
  {
   "cell_type": "markdown",
   "metadata": {
    "id": "J8AhJ0cKer7b"
   },
   "source": [
    "## 1. Load the dataset"
   ]
  },
  {
   "cell_type": "code",
   "execution_count": 2,
   "metadata": {
    "id": "n9KORySPiN1r"
   },
   "outputs": [],
   "source": [
    "# Testing path\n",
    "path = \"data/\""
   ]
  },
  {
   "cell_type": "code",
   "execution_count": 3,
   "metadata": {
    "id": "aPn2dmoMexCU"
   },
   "outputs": [],
   "source": [
    "# Load the files into a Pandas Dataframe\n",
    "train = pd.read_csv(path+'Train.csv')\n",
    "test = pd.read_csv(path+'Test.csv')\n",
    "ss = pd.read_csv(path+'SampleSubmission.csv')"
   ]
  },
  {
   "cell_type": "code",
   "execution_count": 4,
   "metadata": {},
   "outputs": [
    {
     "data": {
      "text/html": [
       "<div>\n",
       "<style scoped>\n",
       "    .dataframe tbody tr th:only-of-type {\n",
       "        vertical-align: middle;\n",
       "    }\n",
       "\n",
       "    .dataframe tbody tr th {\n",
       "        vertical-align: top;\n",
       "    }\n",
       "\n",
       "    .dataframe thead th {\n",
       "        text-align: right;\n",
       "    }\n",
       "</style>\n",
       "<table border=\"1\" class=\"dataframe\">\n",
       "  <thead>\n",
       "    <tr style=\"text-align: right;\">\n",
       "      <th></th>\n",
       "      <th>DATE</th>\n",
       "      <th>TRANSACTION DETAILS</th>\n",
       "      <th>Account_NO</th>\n",
       "      <th>CHQ.NO.</th>\n",
       "      <th>WITHDRAWAL AMT</th>\n",
       "      <th>DEPOSIT AMT</th>\n",
       "      <th>BALANCE AMT</th>\n",
       "      <th>ID</th>\n",
       "    </tr>\n",
       "  </thead>\n",
       "  <tbody>\n",
       "    <tr>\n",
       "      <th>0</th>\n",
       "      <td>2014-02-28</td>\n",
       "      <td>NEFT/FDRL401249530/INDIAFORENSIC</td>\n",
       "      <td>84903292</td>\n",
       "      <td>NaN</td>\n",
       "      <td>0.00</td>\n",
       "      <td>15000000.0</td>\n",
       "      <td>30000000.00</td>\n",
       "      <td>2014-02-28 00:00:00X3000000000</td>\n",
       "    </tr>\n",
       "    <tr>\n",
       "      <th>1</th>\n",
       "      <td>2014-02-28</td>\n",
       "      <td>NEFT/FDRL401249533/INDIAFORENSIC</td>\n",
       "      <td>84903292</td>\n",
       "      <td>NaN</td>\n",
       "      <td>0.00</td>\n",
       "      <td>15000000.0</td>\n",
       "      <td>75000000.00</td>\n",
       "      <td>2014-02-28 00:00:00X7500000000</td>\n",
       "    </tr>\n",
       "    <tr>\n",
       "      <th>2</th>\n",
       "      <td>2014-03-08</td>\n",
       "      <td>RTGSCHARGESANDSTAX/RAT</td>\n",
       "      <td>84903292</td>\n",
       "      <td>NaN</td>\n",
       "      <td>28.63</td>\n",
       "      <td>0.0</td>\n",
       "      <td>45000028.63</td>\n",
       "      <td>2014-03-08 00:00:00X4500002863</td>\n",
       "    </tr>\n",
       "    <tr>\n",
       "      <th>3</th>\n",
       "      <td>2014-03-08</td>\n",
       "      <td>RTGS/YESBH16068986176/INDFOR</td>\n",
       "      <td>84903292</td>\n",
       "      <td>NaN</td>\n",
       "      <td>15000000.00</td>\n",
       "      <td>0.0</td>\n",
       "      <td>60000028.63</td>\n",
       "      <td>2014-03-08 00:00:00X6000002863</td>\n",
       "    </tr>\n",
       "    <tr>\n",
       "      <th>4</th>\n",
       "      <td>2014-03-08</td>\n",
       "      <td>RTGSCHARGESANDSTAX/RAT</td>\n",
       "      <td>84903292</td>\n",
       "      <td>NaN</td>\n",
       "      <td>28.63</td>\n",
       "      <td>0.0</td>\n",
       "      <td>60000057.26</td>\n",
       "      <td>2014-03-08 00:00:00X6000005726</td>\n",
       "    </tr>\n",
       "  </tbody>\n",
       "</table>\n",
       "</div>"
      ],
      "text/plain": [
       "         DATE               TRANSACTION DETAILS  Account_NO  CHQ.NO.  \\\n",
       "0  2014-02-28  NEFT/FDRL401249530/INDIAFORENSIC    84903292      NaN   \n",
       "1  2014-02-28  NEFT/FDRL401249533/INDIAFORENSIC    84903292      NaN   \n",
       "2  2014-03-08            RTGSCHARGESANDSTAX/RAT    84903292      NaN   \n",
       "3  2014-03-08      RTGS/YESBH16068986176/INDFOR    84903292      NaN   \n",
       "4  2014-03-08            RTGSCHARGESANDSTAX/RAT    84903292      NaN   \n",
       "\n",
       "   WITHDRAWAL AMT  DEPOSIT AMT  BALANCE AMT                              ID  \n",
       "0            0.00   15000000.0  30000000.00  2014-02-28 00:00:00X3000000000  \n",
       "1            0.00   15000000.0  75000000.00  2014-02-28 00:00:00X7500000000  \n",
       "2           28.63          0.0  45000028.63  2014-03-08 00:00:00X4500002863  \n",
       "3     15000000.00          0.0  60000028.63  2014-03-08 00:00:00X6000002863  \n",
       "4           28.63          0.0  60000057.26  2014-03-08 00:00:00X6000005726  "
      ]
     },
     "execution_count": 4,
     "metadata": {},
     "output_type": "execute_result"
    }
   ],
   "source": [
    "test.head()"
   ]
  },
  {
   "cell_type": "code",
   "execution_count": 5,
   "metadata": {},
   "outputs": [
    {
     "data": {
      "text/html": [
       "<div>\n",
       "<style scoped>\n",
       "    .dataframe tbody tr th:only-of-type {\n",
       "        vertical-align: middle;\n",
       "    }\n",
       "\n",
       "    .dataframe tbody tr th {\n",
       "        vertical-align: top;\n",
       "    }\n",
       "\n",
       "    .dataframe thead th {\n",
       "        text-align: right;\n",
       "    }\n",
       "</style>\n",
       "<table border=\"1\" class=\"dataframe\">\n",
       "  <thead>\n",
       "    <tr style=\"text-align: right;\">\n",
       "      <th></th>\n",
       "      <th>DATE</th>\n",
       "      <th>TRANSACTION DETAILS</th>\n",
       "      <th>Account_NO</th>\n",
       "      <th>CHQ.NO.</th>\n",
       "      <th>WITHDRAWAL AMT</th>\n",
       "      <th>DEPOSIT AMT</th>\n",
       "      <th>BALANCE AMT</th>\n",
       "      <th>Category</th>\n",
       "    </tr>\n",
       "  </thead>\n",
       "  <tbody>\n",
       "    <tr>\n",
       "      <th>0</th>\n",
       "      <td>2014-02-28</td>\n",
       "      <td>NEFT/FDRL401249529/INDIAFORENSIC</td>\n",
       "      <td>84903292</td>\n",
       "      <td>NaN</td>\n",
       "      <td>0.0</td>\n",
       "      <td>15000000.0</td>\n",
       "      <td>15000000.0</td>\n",
       "      <td>Money-Transfer</td>\n",
       "    </tr>\n",
       "    <tr>\n",
       "      <th>1</th>\n",
       "      <td>2014-02-28</td>\n",
       "      <td>NEFT/FDRL401249532/INDIAFORENSIC</td>\n",
       "      <td>84903292</td>\n",
       "      <td>NaN</td>\n",
       "      <td>0.0</td>\n",
       "      <td>15000000.0</td>\n",
       "      <td>60000000.0</td>\n",
       "      <td>Money-Transfer</td>\n",
       "    </tr>\n",
       "    <tr>\n",
       "      <th>2</th>\n",
       "      <td>2014-02-28</td>\n",
       "      <td>NEFT/FDRL401249534/INDIAFORENSIC</td>\n",
       "      <td>84903292</td>\n",
       "      <td>NaN</td>\n",
       "      <td>0.0</td>\n",
       "      <td>15000000.0</td>\n",
       "      <td>90000000.0</td>\n",
       "      <td>Money-Transfer</td>\n",
       "    </tr>\n",
       "    <tr>\n",
       "      <th>3</th>\n",
       "      <td>2014-02-28</td>\n",
       "      <td>NEFT/FDRL401249590/INDIAFORENSIC</td>\n",
       "      <td>84903292</td>\n",
       "      <td>NaN</td>\n",
       "      <td>0.0</td>\n",
       "      <td>10000000.0</td>\n",
       "      <td>100000000.0</td>\n",
       "      <td>Money-Transfer</td>\n",
       "    </tr>\n",
       "    <tr>\n",
       "      <th>4</th>\n",
       "      <td>2014-02-28</td>\n",
       "      <td>NEFT/FDRL401249531/INDIAFORENSIC</td>\n",
       "      <td>84903292</td>\n",
       "      <td>NaN</td>\n",
       "      <td>0.0</td>\n",
       "      <td>15000000.0</td>\n",
       "      <td>45000000.0</td>\n",
       "      <td>Money-Transfer</td>\n",
       "    </tr>\n",
       "  </tbody>\n",
       "</table>\n",
       "</div>"
      ],
      "text/plain": [
       "         DATE               TRANSACTION DETAILS  Account_NO  CHQ.NO.  \\\n",
       "0  2014-02-28  NEFT/FDRL401249529/INDIAFORENSIC    84903292      NaN   \n",
       "1  2014-02-28  NEFT/FDRL401249532/INDIAFORENSIC    84903292      NaN   \n",
       "2  2014-02-28  NEFT/FDRL401249534/INDIAFORENSIC    84903292      NaN   \n",
       "3  2014-02-28  NEFT/FDRL401249590/INDIAFORENSIC    84903292      NaN   \n",
       "4  2014-02-28  NEFT/FDRL401249531/INDIAFORENSIC    84903292      NaN   \n",
       "\n",
       "   WITHDRAWAL AMT  DEPOSIT AMT  BALANCE AMT        Category  \n",
       "0             0.0   15000000.0   15000000.0  Money-Transfer  \n",
       "1             0.0   15000000.0   60000000.0  Money-Transfer  \n",
       "2             0.0   15000000.0   90000000.0  Money-Transfer  \n",
       "3             0.0   10000000.0  100000000.0  Money-Transfer  \n",
       "4             0.0   15000000.0   45000000.0  Money-Transfer  "
      ]
     },
     "execution_count": 5,
     "metadata": {},
     "output_type": "execute_result"
    }
   ],
   "source": [
    "train.head()"
   ]
  },
  {
   "cell_type": "code",
   "execution_count": 6,
   "metadata": {
    "colab": {
     "base_uri": "https://localhost:8080/"
    },
    "id": "HSj_1Qz7ezsw",
    "outputId": "46425755-d8be-4bab-9d03-4e491eb3162a"
   },
   "outputs": [
    {
     "name": "stdout",
     "output_type": "stream",
     "text": [
      "Train data shape : (57974, 8)\n",
      "Test data shape : (22625, 8)\n"
     ]
    }
   ],
   "source": [
    "# Let’s observe the shape of our datasets.\n",
    "print('Train data shape :', train.shape)\n",
    "print('Test data shape :', test.shape)"
   ]
  },
  {
   "cell_type": "markdown",
   "metadata": {
    "id": "BJslatwHfAaN"
   },
   "source": [
    "The above output shows the number of rows and columns for train and test dataset. We have 7 variables in the train dataset, 7 independent variables and 1 dependent variable. In the test dataset, we have 7 independent variables.\n",
    "\n",
    "We can observe the first five rows from our data set by using the head() method from the pandas library."
   ]
  },
  {
   "cell_type": "markdown",
   "metadata": {
    "id": "Lp2Ci3uLtN_C"
   },
   "source": [
    "The SampleSubmission.csv gives us an example of what our submission file should look like. This file will contain the unique id column formed by combining date and balance amount columns. "
   ]
  },
  {
   "cell_type": "code",
   "execution_count": 7,
   "metadata": {
    "colab": {
     "base_uri": "https://localhost:8080/",
     "height": 392
    },
    "id": "fhD55_f3tYAE",
    "outputId": "247cf126-e36a-4d6a-fca5-c6cef9138055"
   },
   "outputs": [
    {
     "data": {
      "text/html": [
       "<div>\n",
       "<style scoped>\n",
       "    .dataframe tbody tr th:only-of-type {\n",
       "        vertical-align: middle;\n",
       "    }\n",
       "\n",
       "    .dataframe tbody tr th {\n",
       "        vertical-align: top;\n",
       "    }\n",
       "\n",
       "    .dataframe thead th {\n",
       "        text-align: right;\n",
       "    }\n",
       "</style>\n",
       "<table border=\"1\" class=\"dataframe\">\n",
       "  <thead>\n",
       "    <tr style=\"text-align: right;\">\n",
       "      <th></th>\n",
       "      <th>ID</th>\n",
       "      <th>Bank Charges</th>\n",
       "      <th>Bill-Payments</th>\n",
       "      <th>Cash-Pickup</th>\n",
       "      <th>Cell Phone and Airtime</th>\n",
       "      <th>Cheque-Payment</th>\n",
       "      <th>Deposit</th>\n",
       "      <th>Donations</th>\n",
       "      <th>General Purchases</th>\n",
       "      <th>Insurance</th>\n",
       "      <th>Interest</th>\n",
       "      <th>Internet and IT Services</th>\n",
       "      <th>Loan Repayment</th>\n",
       "      <th>Merchant-Payment</th>\n",
       "      <th>Money-Transfer</th>\n",
       "      <th>Professional services</th>\n",
       "      <th>Reversal</th>\n",
       "      <th>Salary and wages</th>\n",
       "      <th>Savings and Investments</th>\n",
       "      <th>Shopping</th>\n",
       "      <th>Transport, Travel, and Logistics</th>\n",
       "    </tr>\n",
       "  </thead>\n",
       "  <tbody>\n",
       "    <tr>\n",
       "      <th>0</th>\n",
       "      <td>2014-02-28 00:00:00X3000000000</td>\n",
       "      <td>0</td>\n",
       "      <td>0</td>\n",
       "      <td>0</td>\n",
       "      <td>0</td>\n",
       "      <td>0</td>\n",
       "      <td>0</td>\n",
       "      <td>0</td>\n",
       "      <td>0</td>\n",
       "      <td>0</td>\n",
       "      <td>0</td>\n",
       "      <td>0</td>\n",
       "      <td>0</td>\n",
       "      <td>0</td>\n",
       "      <td>0</td>\n",
       "      <td>0</td>\n",
       "      <td>0</td>\n",
       "      <td>0</td>\n",
       "      <td>0</td>\n",
       "      <td>0</td>\n",
       "      <td>0</td>\n",
       "    </tr>\n",
       "    <tr>\n",
       "      <th>1</th>\n",
       "      <td>2014-02-28 00:00:00X7500000000</td>\n",
       "      <td>0</td>\n",
       "      <td>0</td>\n",
       "      <td>0</td>\n",
       "      <td>0</td>\n",
       "      <td>0</td>\n",
       "      <td>0</td>\n",
       "      <td>0</td>\n",
       "      <td>0</td>\n",
       "      <td>0</td>\n",
       "      <td>0</td>\n",
       "      <td>0</td>\n",
       "      <td>0</td>\n",
       "      <td>0</td>\n",
       "      <td>0</td>\n",
       "      <td>0</td>\n",
       "      <td>0</td>\n",
       "      <td>0</td>\n",
       "      <td>0</td>\n",
       "      <td>0</td>\n",
       "      <td>0</td>\n",
       "    </tr>\n",
       "    <tr>\n",
       "      <th>2</th>\n",
       "      <td>2014-03-08 00:00:00X4500002863</td>\n",
       "      <td>0</td>\n",
       "      <td>0</td>\n",
       "      <td>0</td>\n",
       "      <td>0</td>\n",
       "      <td>0</td>\n",
       "      <td>0</td>\n",
       "      <td>0</td>\n",
       "      <td>0</td>\n",
       "      <td>0</td>\n",
       "      <td>0</td>\n",
       "      <td>0</td>\n",
       "      <td>0</td>\n",
       "      <td>0</td>\n",
       "      <td>0</td>\n",
       "      <td>0</td>\n",
       "      <td>0</td>\n",
       "      <td>0</td>\n",
       "      <td>0</td>\n",
       "      <td>0</td>\n",
       "      <td>0</td>\n",
       "    </tr>\n",
       "    <tr>\n",
       "      <th>3</th>\n",
       "      <td>2014-03-08 00:00:00X6000002863</td>\n",
       "      <td>0</td>\n",
       "      <td>0</td>\n",
       "      <td>0</td>\n",
       "      <td>0</td>\n",
       "      <td>0</td>\n",
       "      <td>0</td>\n",
       "      <td>0</td>\n",
       "      <td>0</td>\n",
       "      <td>0</td>\n",
       "      <td>0</td>\n",
       "      <td>0</td>\n",
       "      <td>0</td>\n",
       "      <td>0</td>\n",
       "      <td>0</td>\n",
       "      <td>0</td>\n",
       "      <td>0</td>\n",
       "      <td>0</td>\n",
       "      <td>0</td>\n",
       "      <td>0</td>\n",
       "      <td>0</td>\n",
       "    </tr>\n",
       "    <tr>\n",
       "      <th>4</th>\n",
       "      <td>2014-03-08 00:00:00X6000005726</td>\n",
       "      <td>0</td>\n",
       "      <td>0</td>\n",
       "      <td>0</td>\n",
       "      <td>0</td>\n",
       "      <td>0</td>\n",
       "      <td>0</td>\n",
       "      <td>0</td>\n",
       "      <td>0</td>\n",
       "      <td>0</td>\n",
       "      <td>0</td>\n",
       "      <td>0</td>\n",
       "      <td>0</td>\n",
       "      <td>0</td>\n",
       "      <td>0</td>\n",
       "      <td>0</td>\n",
       "      <td>0</td>\n",
       "      <td>0</td>\n",
       "      <td>0</td>\n",
       "      <td>0</td>\n",
       "      <td>0</td>\n",
       "    </tr>\n",
       "  </tbody>\n",
       "</table>\n",
       "</div>"
      ],
      "text/plain": [
       "                               ID  Bank Charges  Bill-Payments  Cash-Pickup  \\\n",
       "0  2014-02-28 00:00:00X3000000000             0              0            0   \n",
       "1  2014-02-28 00:00:00X7500000000             0              0            0   \n",
       "2  2014-03-08 00:00:00X4500002863             0              0            0   \n",
       "3  2014-03-08 00:00:00X6000002863             0              0            0   \n",
       "4  2014-03-08 00:00:00X6000005726             0              0            0   \n",
       "\n",
       "   Cell Phone and Airtime  Cheque-Payment  Deposit  Donations  \\\n",
       "0                       0               0        0          0   \n",
       "1                       0               0        0          0   \n",
       "2                       0               0        0          0   \n",
       "3                       0               0        0          0   \n",
       "4                       0               0        0          0   \n",
       "\n",
       "   General Purchases  Insurance  Interest  Internet and IT Services  \\\n",
       "0                  0          0         0                         0   \n",
       "1                  0          0         0                         0   \n",
       "2                  0          0         0                         0   \n",
       "3                  0          0         0                         0   \n",
       "4                  0          0         0                         0   \n",
       "\n",
       "   Loan Repayment  Merchant-Payment  Money-Transfer  Professional services  \\\n",
       "0               0                 0               0                      0   \n",
       "1               0                 0               0                      0   \n",
       "2               0                 0               0                      0   \n",
       "3               0                 0               0                      0   \n",
       "4               0                 0               0                      0   \n",
       "\n",
       "   Reversal  Salary and wages  Savings and Investments  Shopping  \\\n",
       "0         0                 0                        0         0   \n",
       "1         0                 0                        0         0   \n",
       "2         0                 0                        0         0   \n",
       "3         0                 0                        0         0   \n",
       "4         0                 0                        0         0   \n",
       "\n",
       "   Transport, Travel, and Logistics  \n",
       "0                                 0  \n",
       "1                                 0  \n",
       "2                                 0  \n",
       "3                                 0  \n",
       "4                                 0  "
      ]
     },
     "execution_count": 7,
     "metadata": {},
     "output_type": "execute_result"
    }
   ],
   "source": [
    "# View the submission file\n",
    "ss.head()"
   ]
  },
  {
   "cell_type": "markdown",
   "metadata": {
    "id": "uR7H9KmYtqqg"
   },
   "source": [
    "## 2. Understand the dataset"
   ]
  },
  {
   "cell_type": "markdown",
   "metadata": {
    "id": "6Gp_xSOrtyfj"
   },
   "source": [
    "Let's look at a bar graph of the train data."
   ]
  },
  {
   "cell_type": "code",
   "execution_count": 8,
   "metadata": {
    "colab": {
     "base_uri": "https://localhost:8080/",
     "height": 780
    },
    "id": "3_E4cGDvstrK",
    "outputId": "bd8ff217-3d67-4ea2-cc07-c2198433ddee",
    "tags": []
   },
   "outputs": [
    {
     "data": {
      "text/plain": [
       "<AxesSubplot:>"
      ]
     },
     "execution_count": 8,
     "metadata": {},
     "output_type": "execute_result"
    },
    {
     "data": {
      "image/png": "[encoded data removed]",
      "text/plain": [
       "<Figure size 800x600 with 1 Axes>"
      ]
     },
     "metadata": {
      "needs_background": "light"
     },
     "output_type": "display_data"
    }
   ],
   "source": [
    "# Show Categoy support\n",
    "fig,ax=plt.subplots(dpi=200, figsize=(4,3))\n",
    "#ax.set_xticks(rotation=90)\n",
    "train.Category.value_counts(normalize=True).plot.bar(ax=ax)"
   ]
  },
  {
   "cell_type": "markdown",
   "metadata": {
    "id": "8NZhaPZIs2xk"
   },
   "source": [
    "Looks like we have a class imbalance and low support for most of the categories"
   ]
  },
  {
   "cell_type": "markdown",
   "metadata": {
    "id": "nkFQ1a_klXwd"
   },
   "source": [
    "If you want to learn how to handle missing data in your dataset, we recommend you read [How to Handle Missing Data with Python](https://machinelearningmastery.com/handle-missing-data-python/) by Jason Brownlee.\n",
    "\n",
    "For more information you can visit the link below.\n",
    "\n",
    "[Why you need to explore your data and how you can start](https://https://medium.com/analytics-vidhya/why-you-need-to-explore-your-data-how-you-can-start-13de6f29c8c1)"
   ]
  },
  {
   "cell_type": "markdown",
   "metadata": {
    "id": "wKJswRvsyD8d"
   },
   "source": [
    "Encode the target labels to values to show a correlation matrix."
   ]
  },
  {
   "cell_type": "code",
   "execution_count": 9,
   "metadata": {
    "colab": {
     "base_uri": "https://localhost:8080/"
    },
    "id": "zTPRRb1dyH2R",
    "outputId": "51dff886-5657-468c-be0a-c955660ff7f7"
   },
   "outputs": [
    {
     "name": "stdout",
     "output_type": "stream",
     "text": [
      "Train data:  {'Category': {'Bank Charges': 1, 'Bill-Payments': 2, 'Cash-Pickup': 3, 'Cell Phone and Airtime': 4, 'Cheque-Payment': 5, 'Deposit': 6, 'Donations': 7, 'Entertainment': 8, 'General Purchases': 9, 'Insurance': 10, 'Interest': 11, 'Internet and IT Services': 12, 'Loan Repayment': 13, 'Merchant-Payment': 14, 'Money-Transfer': 15, 'Professional services': 16, 'Reversal': 17, 'Salary and wages': 18, 'Savings and Investments': 19, 'Shopping': 20, 'Transport, Travel, and Logistics': 21}}\n"
     ]
    }
   ],
   "source": [
    "# Use a dictionary comprehension and zip to create a dictionary for all the categories in the train data\n",
    "labels_train = train['Category'].astype('category').cat.categories.tolist()\n",
    "replace_map_train = {'Category' : {k: v for k,v in zip(labels_train,list(range(1,len(labels_train)+1)))}}\n",
    "print(\"Train data: \", replace_map_train)"
   ]
  },
  {
   "cell_type": "code",
   "execution_count": 10,
   "metadata": {
    "id": "YEnKu6HjyM2z"
   },
   "outputs": [],
   "source": [
    "# Create a copy to use for the correlation matrix (as it only accepts numerical data)\n",
    "train_data_corr = train.copy()"
   ]
  },
  {
   "cell_type": "code",
   "execution_count": 11,
   "metadata": {
    "id": "GvFoJNrXyQsp"
   },
   "outputs": [],
   "source": [
    "# Replace the categories with the numerical equivalents from the dictionary\n",
    "train_data_corr.replace(replace_map_train, inplace=True)"
   ]
  },
  {
   "cell_type": "markdown",
   "metadata": {
    "id": "RM0Z7YtByZZ8"
   },
   "source": [
    "## Correlation matrix"
   ]
  },
  {
   "cell_type": "code",
   "execution_count": 12,
   "metadata": {
    "colab": {
     "base_uri": "https://localhost:8080/"
    },
    "id": "OunGY3AeyYVC",
    "outputId": "e03cb524-8871-40b7-8e91-187234adbb51"
   },
   "outputs": [
    {
     "data": {
      "text/html": [
       "<div>\n",
       "<style scoped>\n",
       "    .dataframe tbody tr th:only-of-type {\n",
       "        vertical-align: middle;\n",
       "    }\n",
       "\n",
       "    .dataframe tbody tr th {\n",
       "        vertical-align: top;\n",
       "    }\n",
       "\n",
       "    .dataframe thead th {\n",
       "        text-align: right;\n",
       "    }\n",
       "</style>\n",
       "<table border=\"1\" class=\"dataframe\">\n",
       "  <thead>\n",
       "    <tr style=\"text-align: right;\">\n",
       "      <th></th>\n",
       "      <th>Account_NO</th>\n",
       "      <th>CHQ.NO.</th>\n",
       "      <th>WITHDRAWAL AMT</th>\n",
       "      <th>DEPOSIT AMT</th>\n",
       "      <th>BALANCE AMT</th>\n",
       "      <th>Category</th>\n",
       "    </tr>\n",
       "  </thead>\n",
       "  <tbody>\n",
       "    <tr>\n",
       "      <th>Account_NO</th>\n",
       "      <td>1.000000</td>\n",
       "      <td>0.351361</td>\n",
       "      <td>0.121602</td>\n",
       "      <td>0.076127</td>\n",
       "      <td>0.033356</td>\n",
       "      <td>0.336006</td>\n",
       "    </tr>\n",
       "    <tr>\n",
       "      <th>CHQ.NO.</th>\n",
       "      <td>0.351361</td>\n",
       "      <td>1.000000</td>\n",
       "      <td>-0.067754</td>\n",
       "      <td>NaN</td>\n",
       "      <td>0.382381</td>\n",
       "      <td>-0.340006</td>\n",
       "    </tr>\n",
       "    <tr>\n",
       "      <th>WITHDRAWAL AMT</th>\n",
       "      <td>0.121602</td>\n",
       "      <td>-0.067754</td>\n",
       "      <td>1.000000</td>\n",
       "      <td>-0.088483</td>\n",
       "      <td>0.118660</td>\n",
       "      <td>0.169217</td>\n",
       "    </tr>\n",
       "    <tr>\n",
       "      <th>DEPOSIT AMT</th>\n",
       "      <td>0.076127</td>\n",
       "      <td>NaN</td>\n",
       "      <td>-0.088483</td>\n",
       "      <td>1.000000</td>\n",
       "      <td>0.024830</td>\n",
       "      <td>0.179585</td>\n",
       "    </tr>\n",
       "    <tr>\n",
       "      <th>BALANCE AMT</th>\n",
       "      <td>0.033356</td>\n",
       "      <td>0.382381</td>\n",
       "      <td>0.118660</td>\n",
       "      <td>0.024830</td>\n",
       "      <td>1.000000</td>\n",
       "      <td>0.135700</td>\n",
       "    </tr>\n",
       "    <tr>\n",
       "      <th>Category</th>\n",
       "      <td>0.336006</td>\n",
       "      <td>-0.340006</td>\n",
       "      <td>0.169217</td>\n",
       "      <td>0.179585</td>\n",
       "      <td>0.135700</td>\n",
       "      <td>1.000000</td>\n",
       "    </tr>\n",
       "  </tbody>\n",
       "</table>\n",
       "</div>"
      ],
      "text/plain": [
       "                Account_NO   CHQ.NO.  WITHDRAWAL AMT  DEPOSIT AMT  \\\n",
       "Account_NO        1.000000  0.351361        0.121602     0.076127   \n",
       "CHQ.NO.           0.351361  1.000000       -0.067754          NaN   \n",
       "WITHDRAWAL AMT    0.121602 -0.067754        1.000000    -0.088483   \n",
       "DEPOSIT AMT       0.076127       NaN       -0.088483     1.000000   \n",
       "BALANCE AMT       0.033356  0.382381        0.118660     0.024830   \n",
       "Category          0.336006 -0.340006        0.169217     0.179585   \n",
       "\n",
       "                BALANCE AMT  Category  \n",
       "Account_NO         0.033356  0.336006  \n",
       "CHQ.NO.            0.382381 -0.340006  \n",
       "WITHDRAWAL AMT     0.118660  0.169217  \n",
       "DEPOSIT AMT        0.024830  0.179585  \n",
       "BALANCE AMT        1.000000  0.135700  \n",
       "Category           0.135700  1.000000  "
      ]
     },
     "execution_count": 12,
     "metadata": {},
     "output_type": "execute_result"
    }
   ],
   "source": [
    "train_data_corr.corr()"
   ]
  },
  {
   "cell_type": "markdown",
   "metadata": {
    "id": "_-xUy1m1zSro"
   },
   "source": [
    "We can see that not many things are correlated with Category, so it seems like we don't have enough data."
   ]
  },
  {
   "cell_type": "markdown",
   "metadata": {
    "id": "brJlTnmLzkiZ"
   },
   "source": [
    "We need to drop empty rows if there are any."
   ]
  },
  {
   "cell_type": "code",
   "execution_count": 13,
   "metadata": {
    "id": "BgS1RoLfzmVY"
   },
   "outputs": [],
   "source": [
    "train = train.dropna(how='all')\n",
    "test = test.dropna(how='all')"
   ]
  },
  {
   "cell_type": "code",
   "execution_count": 14,
   "metadata": {
    "colab": {
     "base_uri": "https://localhost:8080/"
    },
    "id": "AHANXSdvmdy8",
    "outputId": "e52e4cd6-b935-4f9f-e519-36899c61e44a"
   },
   "outputs": [
    {
     "name": "stdout",
     "output_type": "stream",
     "text": [
      "Missing values for Train: DATE                       0\n",
      "TRANSACTION DETAILS     1651\n",
      "Account_NO                 0\n",
      "CHQ.NO.                57586\n",
      "WITHDRAWAL AMT             0\n",
      "DEPOSIT AMT                0\n",
      "BALANCE AMT                0\n",
      "Category                1771\n",
      "dtype: int64\n",
      "\n",
      "Missing values for Test: DATE                       0\n",
      "TRANSACTION DETAILS        0\n",
      "Account_NO                 0\n",
      "CHQ.NO.                22504\n",
      "WITHDRAWAL AMT             0\n",
      "DEPOSIT AMT                0\n",
      "BALANCE AMT                0\n",
      "ID                         0\n",
      "dtype: int64\n"
     ]
    }
   ],
   "source": [
    "# We can also use the .isnull() method to check for empty values\n",
    "print('Missing values for Train:', train.isnull().sum())\n",
    "print('')\n",
    "print('Missing values for Test:', test.isnull().sum())"
   ]
  },
  {
   "cell_type": "markdown",
   "metadata": {
    "id": "plxS_TN5lvaR"
   },
   "source": [
    "Looks like we need to remove the missing categories, they won't help with the model.\n",
    "\n",
    "CHQ.NO. is mostuly null.\n",
    "\n",
    "Since TRANSACTION DETAILS is text and the bag of words models can only work on strings we'll need to covert nans to ''"
   ]
  },
  {
   "cell_type": "markdown",
   "metadata": {
    "id": "iqPs_Z9L1TuC"
   },
   "source": [
    "### Empty entries"
   ]
  },
  {
   "cell_type": "markdown",
   "metadata": {
    "id": "tNGDf7vvp4dI"
   },
   "source": [
    "Remove null categories"
   ]
  },
  {
   "cell_type": "code",
   "execution_count": 15,
   "metadata": {
    "id": "YGk2LWNqs_W8",
    "outputId": "e2984d2b-f413-433f-9551-36220f4fe29a"
   },
   "outputs": [],
   "source": [
    "train = train[train.Category.notnull()]"
   ]
  },
  {
   "cell_type": "code",
   "execution_count": 16,
   "metadata": {},
   "outputs": [],
   "source": [
    "# fill na\n",
    "train['TRANSACTION DETAILS'] = train['TRANSACTION DETAILS'].fillna('')"
   ]
  },
  {
   "cell_type": "markdown",
   "metadata": {},
   "source": [
    "### Transaction details\n",
    "\n",
    "Let's take a look at the text column"
   ]
  },
  {
   "cell_type": "code",
   "execution_count": 17,
   "metadata": {},
   "outputs": [
    {
     "data": {
      "text/plain": [
       "1"
      ]
     },
     "execution_count": 17,
     "metadata": {},
     "output_type": "execute_result"
    }
   ],
   "source": [
    "# get the max words in\n",
    "train[train['TRANSACTION DETAILS'].notnull()]['TRANSACTION DETAILS'].str.split(' ').apply(len).max()"
   ]
  },
  {
   "cell_type": "code",
   "execution_count": 18,
   "metadata": {},
   "outputs": [
    {
     "data": {
      "text/plain": [
       "0        [NEFT/FDRL401249529/INDIAFORENSIC]\n",
       "1        [NEFT/FDRL401249532/INDIAFORENSIC]\n",
       "2        [NEFT/FDRL401249534/INDIAFORENSIC]\n",
       "3        [NEFT/FDRL401249590/INDIAFORENSIC]\n",
       "4        [NEFT/FDRL401249531/INDIAFORENSIC]\n",
       "                        ...                \n",
       "57969       [INDIAFORENSICNFSSETT02-03-201]\n",
       "57970       [INDIAFORENSICNFSSETT02-03-201]\n",
       "57971       [INDIAFORENSICNFSSETT02-03-201]\n",
       "57972       [INDIAFORENSICNFSSETT03-03-201]\n",
       "57973       [INDIAFORENSICNFSSETT02-03-201]\n",
       "Name: TRANSACTION DETAILS, Length: 56203, dtype: object"
      ]
     },
     "execution_count": 18,
     "metadata": {},
     "output_type": "execute_result"
    }
   ],
   "source": [
    "train[train['TRANSACTION DETAILS'].notnull()]['TRANSACTION DETAILS'].str.split(' ')"
   ]
  },
  {
   "cell_type": "markdown",
   "metadata": {},
   "source": [
    "Seems like there are not spaces between the words. This is often done to save space description"
   ]
  },
  {
   "cell_type": "code",
   "execution_count": 19,
   "metadata": {},
   "outputs": [
    {
     "data": {
      "text/plain": [
       "<AxesSubplot:ylabel='Frequency'>"
      ]
     },
     "execution_count": 19,
     "metadata": {},
     "output_type": "execute_result"
    },
    {
     "data": {
      "image/png": "[encoded data removed]",
      "text/plain": [
       "<Figure size 432x288 with 1 Axes>"
      ]
     },
     "metadata": {
      "needs_background": "light"
     },
     "output_type": "display_data"
    }
   ],
   "source": [
    "# put spaces between the / since those look like spaces\n",
    "train[train['TRANSACTION DETAILS'].notnull()]['TRANSACTION DETAILS'].str.split('/').apply(len).plot.hist()"
   ]
  },
  {
   "cell_type": "code",
   "execution_count": 20,
   "metadata": {},
   "outputs": [
    {
     "data": {
      "text/plain": [
       "0        [NEFT, FDRL401249529, INDIAFORENSIC]\n",
       "1        [NEFT, FDRL401249532, INDIAFORENSIC]\n",
       "2        [NEFT, FDRL401249534, INDIAFORENSIC]\n",
       "3        [NEFT, FDRL401249590, INDIAFORENSIC]\n",
       "4        [NEFT, FDRL401249531, INDIAFORENSIC]\n",
       "                         ...                 \n",
       "57969         [INDIAFORENSICNFSSETT02-03-201]\n",
       "57970         [INDIAFORENSICNFSSETT02-03-201]\n",
       "57971         [INDIAFORENSICNFSSETT02-03-201]\n",
       "57972         [INDIAFORENSICNFSSETT03-03-201]\n",
       "57973         [INDIAFORENSICNFSSETT02-03-201]\n",
       "Name: TRANSACTION DETAILS, Length: 56203, dtype: object"
      ]
     },
     "execution_count": 20,
     "metadata": {},
     "output_type": "execute_result"
    }
   ],
   "source": [
    "train[train['TRANSACTION DETAILS'].notnull()]['TRANSACTION DETAILS'].str.split('/')"
   ]
  },
  {
   "cell_type": "markdown",
   "metadata": {},
   "source": [
    "We probably should explore this and other special chariters to parse out the words. But that's out of scope for this Tut"
   ]
  },
  {
   "cell_type": "markdown",
   "metadata": {
    "id": "4ofAVhkhuarx"
   },
   "source": [
    "## 3. Data preparation for machine learning\n",
    "\n",
    "Before you train the model for prediction, you need to perform data [cleaning](https://www.dataquest.io/blog/machine-learning-preparing-data/) and [preprocessing](https://towardsdatascience.com/data-preprocessing-concepts-fa946d11c825). This is a very important step; your model will not perform well without these steps.\n",
    "\n",
    "The first step is to separate the independent variables and target() from the training data. Then transform the target values from the object data type into numerical.\n"
   ]
  },
  {
   "cell_type": "markdown",
   "metadata": {
    "id": "q1aHDTs90qu_"
   },
   "source": [
    "## 4. Feature Creation, Model Building and Experiments\n",
    "A portion of the training data set will be used to evaluate our models and find the best one that performs well before using it in the test dataset.\n",
    "\n",
    "We'll need to create features from the text, numerical, and time data and combine them in a machine readable way.\n",
    "\n",
    "\n",
    "*    [Introduction to Feature Selection methods with an example (or how to select the right variables?)](https://https://www.analyticsvidhya.com/blog/2016/12/introduction-to-feature-selection-methods-with-an-example-or-how-to-select-the-right-variables/)\n",
    "*   [The 5 Feature Selection Algorithms every Data Scientist should know](https://towardsdatascience.com/the-5-feature-selection-algorithms-every-data-scientist-need-to-know-3a6b566efd2)\n",
    "*   [How to Choose a Feature Selection Method For Machine Learning](https://machinelearningmastery.com/feature-selection-with-real-and-categorical-data/)\n",
    "*   [Feature Selection Techniques in Machine Learning with Python](https://towardsdatascience.com/feature-selection-techniques-in-machine-learning-with-python-f24e7da3f36e)"
   ]
  },
  {
   "cell_type": "code",
   "execution_count": 21,
   "metadata": {
    "id": "clVOI_t16J1k"
   },
   "outputs": [],
   "source": [
    "# # Split the training data\n",
    "feature_cols = ['TRANSACTION DETAILS','CHQ.NO.','WITHDRAWAL AMT','DEPOSIT AMT','BALANCE AMT']\n",
    "X_train, X_val, y_train, y_val = train_test_split(train[feature_cols], train['Category'], test_size=0.3, random_state=101)"
   ]
  },
  {
   "cell_type": "markdown",
   "metadata": {
    "id": "WriH9E9b6QO2"
   },
   "source": [
    "Only 30% of the train dataset will be used for evaluating the models. \n",
    "\n",
    "There are many models to choose from such as \n",
    "\n",
    "*   [K Nearest Neighbors](https://www.datacamp.com/community/tutorials/k-nearest-neighbor-classification-scikit-learn)\n",
    "*   [Logistic Regression](https://machinelearningmastery.com/logistic-regression-tutorial-for-machine-learning/)\n",
    "*   [Random Forest](https://www.datacamp.com/community/tutorials/random-forests-classifier-python)\n",
    "*   [XGBoost](https://www.datacamp.com/community/tutorials/xgboost-in-python)\n"
   ]
  },
  {
   "cell_type": "markdown",
   "metadata": {
    "id": "iy2_NHkB2qH6"
   },
   "source": [
    "Fit models"
   ]
  },
  {
   "cell_type": "code",
   "execution_count": 22,
   "metadata": {},
   "outputs": [
    {
     "name": "stdout",
     "output_type": "stream",
     "text": [
      "validation set is missing cols {'General Purchases', 'Entertainment', 'Donations'}\n"
     ]
    }
   ],
   "source": [
    "# make sure validation set has all the categories as training set\n",
    "print('validation set is missing cols {}'.format(set(y_train.unique()) - set(y_val.unique())))\n",
    "missing_cols = list(set(y_train.unique()) - set(y_val.unique()))"
   ]
  },
  {
   "cell_type": "markdown",
   "metadata": {},
   "source": [
    "Well need to include this column in a dummy matrix for the log loss metric to work, since both the train and val set need to have the same shape"
   ]
  },
  {
   "cell_type": "markdown",
   "metadata": {
    "id": "iDSfITip2u1y"
   },
   "source": [
    "Let's try a decision tree first"
   ]
  },
  {
   "cell_type": "code",
   "execution_count": 23,
   "metadata": {
    "id": "yRatl-C-2wWv",
    "outputId": "7c142d2f-f1d4-4daa-abba-baca9296a0da"
   },
   "outputs": [
    {
     "name": "stdout",
     "output_type": "stream",
     "text": [
      "ACCURACY OF THE MODEL:  0.8651325544155151 The log loss of the model: 1.2043389306979677\n",
      "                                  precision    recall  f1-score   support\n",
      "\n",
      "                    Bank Charges       0.00      0.00      0.00       338\n",
      "                   Bill-Payments       0.92      0.51      0.66       134\n",
      "                     Cash-Pickup       0.50      0.48      0.49       332\n",
      "          Cell Phone and Airtime       0.00      0.00      0.00        34\n",
      "                  Cheque-Payment       0.84      0.76      0.79       401\n",
      "                         Deposit       0.97      0.99      0.98      3749\n",
      "                       Insurance       0.00      0.00      0.00         6\n",
      "                        Interest       0.00      0.00      0.00        16\n",
      "        Internet and IT Services       0.00      0.00      0.00         9\n",
      "                  Loan Repayment       0.00      0.00      0.00        24\n",
      "                Merchant-Payment       0.41      0.49      0.45       963\n",
      "                  Money-Transfer       0.89      0.93      0.91     10567\n",
      "           Professional services       0.00      0.00      0.00         7\n",
      "                        Reversal       0.00      0.00      0.00        13\n",
      "                Salary and wages       0.00      0.00      0.00       230\n",
      "         Savings and Investments       0.00      0.00      0.00         3\n",
      "                        Shopping       0.00      0.00      0.00        34\n",
      "Transport, Travel, and Logistics       0.00      0.00      0.00         1\n",
      "\n",
      "                        accuracy                           0.87     16861\n",
      "                       macro avg       0.25      0.23      0.24     16861\n",
      "                    weighted avg       0.83      0.87      0.85     16861\n",
      "\n"
     ]
    }
   ],
   "source": [
    "# Creating a Decision tree classifier with a pipeline\n",
    "\n",
    "### Feature processing and creation on numerical features\n",
    "numeric_features = ['WITHDRAWAL AMT','DEPOSIT AMT','BALANCE AMT']\n",
    "numeric_transformer = StandardScaler()\n",
    "\n",
    "### Feature creation on text features\n",
    "text_features = 'TRANSACTION DETAILS'\n",
    "text_transformer = Pipeline(steps=[('vectorizer',TfidfVectorizer(analyzer='char_wb',ngram_range=(1,9))),\n",
    "                                    ('best',TruncatedSVD(3))\n",
    "                                  ])\n",
    "### Todo: Feature creation on Date \n",
    "\n",
    "\n",
    "### make reusable preprocessing step\n",
    "preprocessor = ColumnTransformer(\n",
    "    transformers=[\n",
    "        (\"num\", numeric_transformer, numeric_features),\n",
    "        (\"text\", text_transformer, text_features),\n",
    "    ],\n",
    "    sparse_threshold=0\n",
    ")\n",
    "\n",
    "### combine with a classifier\n",
    "model_dtree = Pipeline(\n",
    "    steps=[(\"preprocessor\", preprocessor), (\"classifier\", DecisionTreeClassifier(max_depth=5, random_state=101,\n",
    "                                     max_features = None, min_samples_leaf=8))]\n",
    ")\n",
    "\n",
    "\n",
    "# Training the model on the training dataset\n",
    "model_dtree.fit(X_train, y_train)\n",
    "\n",
    "# Predict\n",
    "y_pred = model_dtree.predict(X_val)\n",
    "# create dummy matrix of the true\n",
    "y_val_dummies = pd.get_dummies(pd.concat([y_val, pd.Series([col for col in missing_cols])],ignore_index=True)).iloc[:-len(missing_cols)][model_dtree.classes_]\n",
    "y_pred_poba = model_dtree.predict_proba(X_val)\n",
    "\n",
    "# Calculate accuracy\n",
    "print(\"ACCURACY OF THE MODEL: \", accuracy_score(y_val, y_pred), 'The log loss of the model:',log_loss(y_val_dummies,y_pred_poba))\n",
    "\n",
    "# Classification report\n",
    "print(classification_report(y_val, y_pred))"
   ]
  },
  {
   "cell_type": "markdown",
   "metadata": {
    "id": "W0sgBhhK24ev"
   },
   "source": [
    "Let's try random forest with 100 estimators"
   ]
  },
  {
   "cell_type": "code",
   "execution_count": 24,
   "metadata": {
    "id": "RZNyCOCf26Gd",
    "outputId": "7b2c4c23-ea31-4b76-aee5-adc3e7b8343b"
   },
   "outputs": [
    {
     "name": "stdout",
     "output_type": "stream",
     "text": [
      "ACCURACY OF THE MODEL:  0.9293043117252832 The log loss of the model: 0.2557474418433331\n",
      "                                  precision    recall  f1-score   support\n",
      "\n",
      "                    Bank Charges       0.81      0.93      0.87       338\n",
      "                   Bill-Payments       0.98      0.69      0.81       134\n",
      "                     Cash-Pickup       0.30      0.95      0.46       332\n",
      "          Cell Phone and Airtime       1.00      0.88      0.94        34\n",
      "                  Cheque-Payment       0.95      1.00      0.98       401\n",
      "                         Deposit       1.00      1.00      1.00      3749\n",
      "                       Insurance       0.83      0.83      0.83         6\n",
      "                        Interest       1.00      1.00      1.00        16\n",
      "        Internet and IT Services       1.00      1.00      1.00         9\n",
      "                  Loan Repayment       1.00      1.00      1.00        24\n",
      "                Merchant-Payment       0.81      0.96      0.88       963\n",
      "                  Money-Transfer       0.99      0.91      0.95     10567\n",
      "           Professional services       1.00      1.00      1.00         7\n",
      "                        Reversal       0.88      0.54      0.67        13\n",
      "                Salary and wages       0.68      0.43      0.53       230\n",
      "         Savings and Investments       1.00      0.33      0.50         3\n",
      "                        Shopping       1.00      0.82      0.90        34\n",
      "Transport, Travel, and Logistics       1.00      1.00      1.00         1\n",
      "\n",
      "                        accuracy                           0.93     16861\n",
      "                       macro avg       0.90      0.85      0.85     16861\n",
      "                    weighted avg       0.96      0.93      0.94     16861\n",
      "\n"
     ]
    }
   ],
   "source": [
    "from sklearn.ensemble import RandomForestClassifier\n",
    "\n",
    "# Re-use preprocessor but change the model\n",
    "clf = Pipeline(\n",
    "    steps=[(\"preprocessor\", preprocessor), (\"classifier\", RandomForestClassifier(random_state=101))]\n",
    ")\n",
    " \n",
    "# Training the model on the training dataset\n",
    "clf.fit(X_train, y_train)\n",
    " \n",
    "# Performing predictions on the test dataset\n",
    "y_pred = clf.predict(X_val)\n",
    "y_val_dummies = pd.get_dummies(pd.concat([y_val, pd.Series([col for col in missing_cols])],ignore_index=True)).iloc[:-len(missing_cols)][clf.classes_]\n",
    "y_pred_poba = clf.predict_proba(X_val)\n",
    "# Calculate accuracy\n",
    "print(\"ACCURACY OF THE MODEL: \", accuracy_score(y_val, y_pred), 'The log loss of the model:',log_loss(y_val_dummies,y_pred_poba))\n",
    "\n",
    "# Classification report\n",
    "print(classification_report(y_val, y_pred))\n"
   ]
  },
  {
   "cell_type": "markdown",
   "metadata": {
    "id": "XJnV9lsd2-s-"
   },
   "source": [
    "### 5. Making the first submission\n",
    "\n",
    "Let’s see how the model performs on the competition test data set provided and how we rank on the competition leaderboard.\n",
    "\n",
    "First we make predictions on the competition test data set."
   ]
  },
  {
   "cell_type": "code",
   "execution_count": 25,
   "metadata": {
    "id": "LoH4zhJb3EV4"
   },
   "outputs": [],
   "source": [
    "# Get the predicted result for the test Data\n",
    "predictions = pd.DataFrame(clf.predict_proba(test),columns=clf.classes_,index=ss.ID)"
   ]
  },
  {
   "cell_type": "code",
   "execution_count": 26,
   "metadata": {},
   "outputs": [
    {
     "data": {
      "text/html": [
       "<div>\n",
       "<style scoped>\n",
       "    .dataframe tbody tr th:only-of-type {\n",
       "        vertical-align: middle;\n",
       "    }\n",
       "\n",
       "    .dataframe tbody tr th {\n",
       "        vertical-align: top;\n",
       "    }\n",
       "\n",
       "    .dataframe thead th {\n",
       "        text-align: right;\n",
       "    }\n",
       "</style>\n",
       "<table border=\"1\" class=\"dataframe\">\n",
       "  <thead>\n",
       "    <tr style=\"text-align: right;\">\n",
       "      <th></th>\n",
       "      <th>Bank Charges</th>\n",
       "      <th>Bill-Payments</th>\n",
       "      <th>Cash-Pickup</th>\n",
       "      <th>Cell Phone and Airtime</th>\n",
       "      <th>Cheque-Payment</th>\n",
       "      <th>Deposit</th>\n",
       "      <th>Donations</th>\n",
       "      <th>Entertainment</th>\n",
       "      <th>General Purchases</th>\n",
       "      <th>Insurance</th>\n",
       "      <th>Interest</th>\n",
       "      <th>Internet and IT Services</th>\n",
       "      <th>Loan Repayment</th>\n",
       "      <th>Merchant-Payment</th>\n",
       "      <th>Money-Transfer</th>\n",
       "      <th>Professional services</th>\n",
       "      <th>Reversal</th>\n",
       "      <th>Salary and wages</th>\n",
       "      <th>Savings and Investments</th>\n",
       "      <th>Shopping</th>\n",
       "      <th>Transport, Travel, and Logistics</th>\n",
       "    </tr>\n",
       "    <tr>\n",
       "      <th>ID</th>\n",
       "      <th></th>\n",
       "      <th></th>\n",
       "      <th></th>\n",
       "      <th></th>\n",
       "      <th></th>\n",
       "      <th></th>\n",
       "      <th></th>\n",
       "      <th></th>\n",
       "      <th></th>\n",
       "      <th></th>\n",
       "      <th></th>\n",
       "      <th></th>\n",
       "      <th></th>\n",
       "      <th></th>\n",
       "      <th></th>\n",
       "      <th></th>\n",
       "      <th></th>\n",
       "      <th></th>\n",
       "      <th></th>\n",
       "      <th></th>\n",
       "      <th></th>\n",
       "    </tr>\n",
       "  </thead>\n",
       "  <tbody>\n",
       "    <tr>\n",
       "      <th>2014-02-28 00:00:00X3000000000</th>\n",
       "      <td>0.00</td>\n",
       "      <td>0.00</td>\n",
       "      <td>0.04</td>\n",
       "      <td>0.0</td>\n",
       "      <td>0.00</td>\n",
       "      <td>0.09</td>\n",
       "      <td>0.0</td>\n",
       "      <td>0.0</td>\n",
       "      <td>0.0</td>\n",
       "      <td>0.0</td>\n",
       "      <td>0.0</td>\n",
       "      <td>0.0</td>\n",
       "      <td>0.0</td>\n",
       "      <td>0.50</td>\n",
       "      <td>0.32</td>\n",
       "      <td>0.00</td>\n",
       "      <td>0.00</td>\n",
       "      <td>0.05</td>\n",
       "      <td>0.0</td>\n",
       "      <td>0.00</td>\n",
       "      <td>0.0</td>\n",
       "    </tr>\n",
       "    <tr>\n",
       "      <th>2014-02-28 00:00:00X7500000000</th>\n",
       "      <td>0.00</td>\n",
       "      <td>0.00</td>\n",
       "      <td>0.01</td>\n",
       "      <td>0.0</td>\n",
       "      <td>0.00</td>\n",
       "      <td>0.03</td>\n",
       "      <td>0.0</td>\n",
       "      <td>0.0</td>\n",
       "      <td>0.0</td>\n",
       "      <td>0.0</td>\n",
       "      <td>0.0</td>\n",
       "      <td>0.0</td>\n",
       "      <td>0.0</td>\n",
       "      <td>0.16</td>\n",
       "      <td>0.73</td>\n",
       "      <td>0.00</td>\n",
       "      <td>0.00</td>\n",
       "      <td>0.07</td>\n",
       "      <td>0.0</td>\n",
       "      <td>0.00</td>\n",
       "      <td>0.0</td>\n",
       "    </tr>\n",
       "    <tr>\n",
       "      <th>2014-03-08 00:00:00X4500002863</th>\n",
       "      <td>0.22</td>\n",
       "      <td>0.01</td>\n",
       "      <td>0.05</td>\n",
       "      <td>0.0</td>\n",
       "      <td>0.29</td>\n",
       "      <td>0.02</td>\n",
       "      <td>0.0</td>\n",
       "      <td>0.0</td>\n",
       "      <td>0.0</td>\n",
       "      <td>0.0</td>\n",
       "      <td>0.0</td>\n",
       "      <td>0.0</td>\n",
       "      <td>0.0</td>\n",
       "      <td>0.06</td>\n",
       "      <td>0.13</td>\n",
       "      <td>0.00</td>\n",
       "      <td>0.07</td>\n",
       "      <td>0.00</td>\n",
       "      <td>0.0</td>\n",
       "      <td>0.15</td>\n",
       "      <td>0.0</td>\n",
       "    </tr>\n",
       "    <tr>\n",
       "      <th>2014-03-08 00:00:00X6000002863</th>\n",
       "      <td>0.06</td>\n",
       "      <td>0.03</td>\n",
       "      <td>0.00</td>\n",
       "      <td>0.0</td>\n",
       "      <td>0.03</td>\n",
       "      <td>0.00</td>\n",
       "      <td>0.0</td>\n",
       "      <td>0.0</td>\n",
       "      <td>0.0</td>\n",
       "      <td>0.0</td>\n",
       "      <td>0.0</td>\n",
       "      <td>0.0</td>\n",
       "      <td>0.0</td>\n",
       "      <td>0.14</td>\n",
       "      <td>0.53</td>\n",
       "      <td>0.03</td>\n",
       "      <td>0.08</td>\n",
       "      <td>0.10</td>\n",
       "      <td>0.0</td>\n",
       "      <td>0.00</td>\n",
       "      <td>0.0</td>\n",
       "    </tr>\n",
       "    <tr>\n",
       "      <th>2014-03-08 00:00:00X6000005726</th>\n",
       "      <td>0.23</td>\n",
       "      <td>0.01</td>\n",
       "      <td>0.04</td>\n",
       "      <td>0.0</td>\n",
       "      <td>0.30</td>\n",
       "      <td>0.02</td>\n",
       "      <td>0.0</td>\n",
       "      <td>0.0</td>\n",
       "      <td>0.0</td>\n",
       "      <td>0.0</td>\n",
       "      <td>0.0</td>\n",
       "      <td>0.0</td>\n",
       "      <td>0.0</td>\n",
       "      <td>0.06</td>\n",
       "      <td>0.12</td>\n",
       "      <td>0.00</td>\n",
       "      <td>0.07</td>\n",
       "      <td>0.00</td>\n",
       "      <td>0.0</td>\n",
       "      <td>0.15</td>\n",
       "      <td>0.0</td>\n",
       "    </tr>\n",
       "    <tr>\n",
       "      <th>...</th>\n",
       "      <td>...</td>\n",
       "      <td>...</td>\n",
       "      <td>...</td>\n",
       "      <td>...</td>\n",
       "      <td>...</td>\n",
       "      <td>...</td>\n",
       "      <td>...</td>\n",
       "      <td>...</td>\n",
       "      <td>...</td>\n",
       "      <td>...</td>\n",
       "      <td>...</td>\n",
       "      <td>...</td>\n",
       "      <td>...</td>\n",
       "      <td>...</td>\n",
       "      <td>...</td>\n",
       "      <td>...</td>\n",
       "      <td>...</td>\n",
       "      <td>...</td>\n",
       "      <td>...</td>\n",
       "      <td>...</td>\n",
       "      <td>...</td>\n",
       "    </tr>\n",
       "    <tr>\n",
       "      <th>2021-04-16 00:00:00X2455635722</th>\n",
       "      <td>0.00</td>\n",
       "      <td>0.00</td>\n",
       "      <td>0.00</td>\n",
       "      <td>0.0</td>\n",
       "      <td>0.00</td>\n",
       "      <td>0.00</td>\n",
       "      <td>0.0</td>\n",
       "      <td>0.0</td>\n",
       "      <td>0.0</td>\n",
       "      <td>0.0</td>\n",
       "      <td>0.0</td>\n",
       "      <td>0.0</td>\n",
       "      <td>0.0</td>\n",
       "      <td>0.97</td>\n",
       "      <td>0.02</td>\n",
       "      <td>0.00</td>\n",
       "      <td>0.00</td>\n",
       "      <td>0.01</td>\n",
       "      <td>0.0</td>\n",
       "      <td>0.00</td>\n",
       "      <td>0.0</td>\n",
       "    </tr>\n",
       "    <tr>\n",
       "      <th>2021-04-16 00:00:00X2443135400</th>\n",
       "      <td>0.00</td>\n",
       "      <td>0.00</td>\n",
       "      <td>0.00</td>\n",
       "      <td>0.0</td>\n",
       "      <td>0.00</td>\n",
       "      <td>0.00</td>\n",
       "      <td>0.0</td>\n",
       "      <td>0.0</td>\n",
       "      <td>0.0</td>\n",
       "      <td>0.0</td>\n",
       "      <td>0.0</td>\n",
       "      <td>0.0</td>\n",
       "      <td>0.0</td>\n",
       "      <td>0.99</td>\n",
       "      <td>0.00</td>\n",
       "      <td>0.00</td>\n",
       "      <td>0.00</td>\n",
       "      <td>0.01</td>\n",
       "      <td>0.0</td>\n",
       "      <td>0.00</td>\n",
       "      <td>0.0</td>\n",
       "    </tr>\n",
       "    <tr>\n",
       "      <th>2021-04-16 00:00:00X6412233</th>\n",
       "      <td>0.00</td>\n",
       "      <td>0.00</td>\n",
       "      <td>0.00</td>\n",
       "      <td>0.0</td>\n",
       "      <td>0.00</td>\n",
       "      <td>0.00</td>\n",
       "      <td>0.0</td>\n",
       "      <td>0.0</td>\n",
       "      <td>0.0</td>\n",
       "      <td>0.0</td>\n",
       "      <td>0.0</td>\n",
       "      <td>0.0</td>\n",
       "      <td>0.0</td>\n",
       "      <td>1.00</td>\n",
       "      <td>0.00</td>\n",
       "      <td>0.00</td>\n",
       "      <td>0.00</td>\n",
       "      <td>0.00</td>\n",
       "      <td>0.0</td>\n",
       "      <td>0.00</td>\n",
       "      <td>0.0</td>\n",
       "    </tr>\n",
       "    <tr>\n",
       "      <th>2021-04-16 00:00:00X2443129137</th>\n",
       "      <td>0.04</td>\n",
       "      <td>0.00</td>\n",
       "      <td>0.00</td>\n",
       "      <td>0.0</td>\n",
       "      <td>0.00</td>\n",
       "      <td>0.00</td>\n",
       "      <td>0.0</td>\n",
       "      <td>0.0</td>\n",
       "      <td>0.0</td>\n",
       "      <td>0.0</td>\n",
       "      <td>0.0</td>\n",
       "      <td>0.0</td>\n",
       "      <td>0.0</td>\n",
       "      <td>0.03</td>\n",
       "      <td>0.91</td>\n",
       "      <td>0.00</td>\n",
       "      <td>0.00</td>\n",
       "      <td>0.02</td>\n",
       "      <td>0.0</td>\n",
       "      <td>0.00</td>\n",
       "      <td>0.0</td>\n",
       "    </tr>\n",
       "    <tr>\n",
       "      <th>2021-04-16 00:00:00X6412217</th>\n",
       "      <td>0.28</td>\n",
       "      <td>0.00</td>\n",
       "      <td>0.01</td>\n",
       "      <td>0.0</td>\n",
       "      <td>0.00</td>\n",
       "      <td>0.00</td>\n",
       "      <td>0.0</td>\n",
       "      <td>0.0</td>\n",
       "      <td>0.0</td>\n",
       "      <td>0.0</td>\n",
       "      <td>0.0</td>\n",
       "      <td>0.0</td>\n",
       "      <td>0.0</td>\n",
       "      <td>0.28</td>\n",
       "      <td>0.30</td>\n",
       "      <td>0.00</td>\n",
       "      <td>0.00</td>\n",
       "      <td>0.13</td>\n",
       "      <td>0.0</td>\n",
       "      <td>0.00</td>\n",
       "      <td>0.0</td>\n",
       "    </tr>\n",
       "  </tbody>\n",
       "</table>\n",
       "<p>22625 rows × 21 columns</p>\n",
       "</div>"
      ],
      "text/plain": [
       "                                Bank Charges  Bill-Payments  Cash-Pickup  \\\n",
       "ID                                                                         \n",
       "2014-02-28 00:00:00X3000000000          0.00           0.00         0.04   \n",
       "2014-02-28 00:00:00X7500000000          0.00           0.00         0.01   \n",
       "2014-03-08 00:00:00X4500002863          0.22           0.01         0.05   \n",
       "2014-03-08 00:00:00X6000002863          0.06           0.03         0.00   \n",
       "2014-03-08 00:00:00X6000005726          0.23           0.01         0.04   \n",
       "...                                      ...            ...          ...   \n",
       "2021-04-16 00:00:00X2455635722          0.00           0.00         0.00   \n",
       "2021-04-16 00:00:00X2443135400          0.00           0.00         0.00   \n",
       "2021-04-16 00:00:00X6412233             0.00           0.00         0.00   \n",
       "2021-04-16 00:00:00X2443129137          0.04           0.00         0.00   \n",
       "2021-04-16 00:00:00X6412217             0.28           0.00         0.01   \n",
       "\n",
       "                                Cell Phone and Airtime  Cheque-Payment  \\\n",
       "ID                                                                       \n",
       "2014-02-28 00:00:00X3000000000                     0.0            0.00   \n",
       "2014-02-28 00:00:00X7500000000                     0.0            0.00   \n",
       "2014-03-08 00:00:00X4500002863                     0.0            0.29   \n",
       "2014-03-08 00:00:00X6000002863                     0.0            0.03   \n",
       "2014-03-08 00:00:00X6000005726                     0.0            0.30   \n",
       "...                                                ...             ...   \n",
       "2021-04-16 00:00:00X2455635722                     0.0            0.00   \n",
       "2021-04-16 00:00:00X2443135400                     0.0            0.00   \n",
       "2021-04-16 00:00:00X6412233                        0.0            0.00   \n",
       "2021-04-16 00:00:00X2443129137                     0.0            0.00   \n",
       "2021-04-16 00:00:00X6412217                        0.0            0.00   \n",
       "\n",
       "                                Deposit  Donations  Entertainment  \\\n",
       "ID                                                                  \n",
       "2014-02-28 00:00:00X3000000000     0.09        0.0            0.0   \n",
       "2014-02-28 00:00:00X7500000000     0.03        0.0            0.0   \n",
       "2014-03-08 00:00:00X4500002863     0.02        0.0            0.0   \n",
       "2014-03-08 00:00:00X6000002863     0.00        0.0            0.0   \n",
       "2014-03-08 00:00:00X6000005726     0.02        0.0            0.0   \n",
       "...                                 ...        ...            ...   \n",
       "2021-04-16 00:00:00X2455635722     0.00        0.0            0.0   \n",
       "2021-04-16 00:00:00X2443135400     0.00        0.0            0.0   \n",
       "2021-04-16 00:00:00X6412233        0.00        0.0            0.0   \n",
       "2021-04-16 00:00:00X2443129137     0.00        0.0            0.0   \n",
       "2021-04-16 00:00:00X6412217        0.00        0.0            0.0   \n",
       "\n",
       "                                General Purchases  Insurance  Interest  \\\n",
       "ID                                                                       \n",
       "2014-02-28 00:00:00X3000000000                0.0        0.0       0.0   \n",
       "2014-02-28 00:00:00X7500000000                0.0        0.0       0.0   \n",
       "2014-03-08 00:00:00X4500002863                0.0        0.0       0.0   \n",
       "2014-03-08 00:00:00X6000002863                0.0        0.0       0.0   \n",
       "2014-03-08 00:00:00X6000005726                0.0        0.0       0.0   \n",
       "...                                           ...        ...       ...   \n",
       "2021-04-16 00:00:00X2455635722                0.0        0.0       0.0   \n",
       "2021-04-16 00:00:00X2443135400                0.0        0.0       0.0   \n",
       "2021-04-16 00:00:00X6412233                   0.0        0.0       0.0   \n",
       "2021-04-16 00:00:00X2443129137                0.0        0.0       0.0   \n",
       "2021-04-16 00:00:00X6412217                   0.0        0.0       0.0   \n",
       "\n",
       "                                Internet and IT Services  Loan Repayment  \\\n",
       "ID                                                                         \n",
       "2014-02-28 00:00:00X3000000000                       0.0             0.0   \n",
       "2014-02-28 00:00:00X7500000000                       0.0             0.0   \n",
       "2014-03-08 00:00:00X4500002863                       0.0             0.0   \n",
       "2014-03-08 00:00:00X6000002863                       0.0             0.0   \n",
       "2014-03-08 00:00:00X6000005726                       0.0             0.0   \n",
       "...                                                  ...             ...   \n",
       "2021-04-16 00:00:00X2455635722                       0.0             0.0   \n",
       "2021-04-16 00:00:00X2443135400                       0.0             0.0   \n",
       "2021-04-16 00:00:00X6412233                          0.0             0.0   \n",
       "2021-04-16 00:00:00X2443129137                       0.0             0.0   \n",
       "2021-04-16 00:00:00X6412217                          0.0             0.0   \n",
       "\n",
       "                                Merchant-Payment  Money-Transfer  \\\n",
       "ID                                                                 \n",
       "2014-02-28 00:00:00X3000000000              0.50            0.32   \n",
       "2014-02-28 00:00:00X7500000000              0.16            0.73   \n",
       "2014-03-08 00:00:00X4500002863              0.06            0.13   \n",
       "2014-03-08 00:00:00X6000002863              0.14            0.53   \n",
       "2014-03-08 00:00:00X6000005726              0.06            0.12   \n",
       "...                                          ...             ...   \n",
       "2021-04-16 00:00:00X2455635722              0.97            0.02   \n",
       "2021-04-16 00:00:00X2443135400              0.99            0.00   \n",
       "2021-04-16 00:00:00X6412233                 1.00            0.00   \n",
       "2021-04-16 00:00:00X2443129137              0.03            0.91   \n",
       "2021-04-16 00:00:00X6412217                 0.28            0.30   \n",
       "\n",
       "                                Professional services  Reversal  \\\n",
       "ID                                                                \n",
       "2014-02-28 00:00:00X3000000000                   0.00      0.00   \n",
       "2014-02-28 00:00:00X7500000000                   0.00      0.00   \n",
       "2014-03-08 00:00:00X4500002863                   0.00      0.07   \n",
       "2014-03-08 00:00:00X6000002863                   0.03      0.08   \n",
       "2014-03-08 00:00:00X6000005726                   0.00      0.07   \n",
       "...                                               ...       ...   \n",
       "2021-04-16 00:00:00X2455635722                   0.00      0.00   \n",
       "2021-04-16 00:00:00X2443135400                   0.00      0.00   \n",
       "2021-04-16 00:00:00X6412233                      0.00      0.00   \n",
       "2021-04-16 00:00:00X2443129137                   0.00      0.00   \n",
       "2021-04-16 00:00:00X6412217                      0.00      0.00   \n",
       "\n",
       "                                Salary and wages  Savings and Investments  \\\n",
       "ID                                                                          \n",
       "2014-02-28 00:00:00X3000000000              0.05                      0.0   \n",
       "2014-02-28 00:00:00X7500000000              0.07                      0.0   \n",
       "2014-03-08 00:00:00X4500002863              0.00                      0.0   \n",
       "2014-03-08 00:00:00X6000002863              0.10                      0.0   \n",
       "2014-03-08 00:00:00X6000005726              0.00                      0.0   \n",
       "...                                          ...                      ...   \n",
       "2021-04-16 00:00:00X2455635722              0.01                      0.0   \n",
       "2021-04-16 00:00:00X2443135400              0.01                      0.0   \n",
       "2021-04-16 00:00:00X6412233                 0.00                      0.0   \n",
       "2021-04-16 00:00:00X2443129137              0.02                      0.0   \n",
       "2021-04-16 00:00:00X6412217                 0.13                      0.0   \n",
       "\n",
       "                                Shopping  Transport, Travel, and Logistics  \n",
       "ID                                                                          \n",
       "2014-02-28 00:00:00X3000000000      0.00                               0.0  \n",
       "2014-02-28 00:00:00X7500000000      0.00                               0.0  \n",
       "2014-03-08 00:00:00X4500002863      0.15                               0.0  \n",
       "2014-03-08 00:00:00X6000002863      0.00                               0.0  \n",
       "2014-03-08 00:00:00X6000005726      0.15                               0.0  \n",
       "...                                  ...                               ...  \n",
       "2021-04-16 00:00:00X2455635722      0.00                               0.0  \n",
       "2021-04-16 00:00:00X2443135400      0.00                               0.0  \n",
       "2021-04-16 00:00:00X6412233         0.00                               0.0  \n",
       "2021-04-16 00:00:00X2443129137      0.00                               0.0  \n",
       "2021-04-16 00:00:00X6412217         0.00                               0.0  \n",
       "\n",
       "[22625 rows x 21 columns]"
      ]
     },
     "execution_count": 26,
     "metadata": {},
     "output_type": "execute_result"
    }
   ],
   "source": [
    "predictions"
   ]
  },
  {
   "cell_type": "markdown",
   "metadata": {
    "id": "xway9nYc3s1m"
   },
   "source": [
    "Save results in the CSV file."
   ]
  },
  {
   "cell_type": "code",
   "execution_count": 27,
   "metadata": {
    "id": "XoLeuE4M3uSs"
   },
   "outputs": [],
   "source": [
    "# Create the submission csv file\n",
    "predictions.to_csv('first_submission.csv', index = True)"
   ]
  },
  {
   "cell_type": "markdown",
   "metadata": {
    "id": "6PipiYQc3ww3"
   },
   "source": [
    "We named our submission file a first_submission.csv. Now we can upload it to the Zindi competition page by clicking the submit button and selecting the file to upload. You also have an option to add comments for each submission."
   ]
  },
  {
   "cell_type": "markdown",
   "metadata": {
    "id": "Kq5e1pAw3zZ3"
   },
   "source": [
    "## More Tips\n",
    "- Use date to generate more features\n",
    "- Thorough EDA and domain knowledge sourcing\n",
    "- Try char embeddings for descriptions \n",
    "- Dataset balancing - oversampling, undersampling, SMOTE...\n",
    "- Ensembling of models \n",
    "- Cross-validation: Group folds, Stratified..."
   ]
  },
  {
   "cell_type": "code",
   "execution_count": null,
   "metadata": {
    "id": "0uHNrcdos_W_"
   },
   "outputs": [],
   "source": []
  }
 ],
 "metadata": {
  "colab": {
   "collapsed_sections": [],
   "name": "Alvinapp_competition Starter notebook.ipynb",
   "provenance": [],
   "toc_visible": true
  },
  "kernelspec": {
   "display_name": "Python 3 (ipykernel)",
   "language": "python",
   "name": "python3"
  },
  "language_info": {
   "codemirror_mode": {
    "name": "ipython",
    "version": 3
   },
   "file_extension": ".py",
   "mimetype": "text/x-python",
   "name": "python",
   "nbconvert_exporter": "python",
   "pygments_lexer": "ipython3",
   "version": "3.9.10"
  }
 },
 "nbformat": 4,
 "nbformat_minor": 4
}
